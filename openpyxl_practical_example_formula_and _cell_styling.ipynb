{
 "cells": [
  {
   "cell_type": "markdown",
   "metadata": {},
   "source": [
    "Import libraries"
   ]
  },
  {
   "cell_type": "code",
   "execution_count": 3,
   "metadata": {},
   "outputs": [],
   "source": [
    "from openpyxl import Workbook, load_workbook\n",
    "from openpyxl.utils import get_column_letter\n",
    "from openpyxl.styles import Font"
   ]
  },
  {
   "cell_type": "markdown",
   "metadata": {},
   "source": [
    "Assigning Data"
   ]
  },
  {
   "cell_type": "code",
   "execution_count": 5,
   "metadata": {},
   "outputs": [],
   "source": [
    "data = {\n",
    "\t\"Joe\": {\n",
    "\t\t\"math\": 65,\n",
    "\t\t\"science\": 78,\n",
    "\t\t\"english\": 98,\n",
    "\t\t\"gym\": 89\n",
    "\t},\n",
    "\t\"Bill\": {\n",
    "\t\t\"math\": 55,\n",
    "\t\t\"science\": 72,\n",
    "\t\t\"english\": 87,\n",
    "\t\t\"gym\": 95\n",
    "\t},\n",
    "\t\"Tim\": {\n",
    "\t\t\"math\": 100,\n",
    "\t\t\"science\": 45,\n",
    "\t\t\"english\": 75,\n",
    "\t\t\"gym\": 92\n",
    "\t},\n",
    "\t\"Sally\": {\n",
    "\t\t\"math\": 30,\n",
    "\t\t\"science\": 25,\n",
    "\t\t\"english\": 45,\n",
    "\t\t\"gym\": 100\n",
    "\t},\n",
    "\t\"Jane\": {\n",
    "\t\t\"math\": 100,\n",
    "\t\t\"science\": 100,\n",
    "\t\t\"english\": 100,\n",
    "\t\t\"gym\": 60\n",
    "\t}\n",
    "}"
   ]
  },
  {
   "cell_type": "markdown",
   "metadata": {},
   "source": [
    "Creating a worksheet"
   ]
  },
  {
   "cell_type": "code",
   "execution_count": 3,
   "metadata": {},
   "outputs": [],
   "source": [
    "work_b = Workbook()\n",
    "work_s = work_b.active\n",
    "work_s.title = 'Sub Grades'"
   ]
  },
  {
   "cell_type": "markdown",
   "metadata": {},
   "source": [
    "Create an list of headings"
   ]
  },
  {
   "cell_type": "code",
   "execution_count": 7,
   "metadata": {},
   "outputs": [
    {
     "name": "stdout",
     "output_type": "stream",
     "text": [
      "['Name', 'math', 'science', 'english', 'gym']\n"
     ]
    }
   ],
   "source": [
    "heading = ['Name']+list(data['Joe'].keys())\n",
    "print(heading)"
   ]
  },
  {
   "cell_type": "markdown",
   "metadata": {},
   "source": [
    "Append the heading into the worksheet"
   ]
  },
  {
   "cell_type": "code",
   "execution_count": 8,
   "metadata": {},
   "outputs": [],
   "source": [
    "work_s.append(heading)"
   ]
  },
  {
   "cell_type": "code",
   "execution_count": 15,
   "metadata": {},
   "outputs": [],
   "source": [
    "for person in data:\n",
    "    grades = list(data[person].values())\n",
    "    work_s.append([person]+grades)"
   ]
  },
  {
   "cell_type": "markdown",
   "metadata": {},
   "source": [
    "Loading workbook"
   ]
  },
  {
   "cell_type": "code",
   "execution_count": 11,
   "metadata": {},
   "outputs": [],
   "source": [
    "work_b = load_workbook(\"C:/Users/Mo.l.tar/OneDrive/Documents/vs code/jupyter notebook/grades.xlsx\")\n",
    "work_s = work_b.active"
   ]
  },
  {
   "cell_type": "markdown",
   "metadata": {},
   "source": [
    "Find the avg. of columns"
   ]
  },
  {
   "cell_type": "code",
   "execution_count": 12,
   "metadata": {},
   "outputs": [],
   "source": [
    "for col in range(2,len(data['Joe'])+2):\n",
    "    char = get_column_letter(col)\n",
    "    work_s[char + '7'] = f\"=SUM({char+'2'}:{char+'6'})/{len(data)}\""
   ]
  },
  {
   "cell_type": "markdown",
   "metadata": {},
   "source": [
    "Styling the Font"
   ]
  },
  {
   "cell_type": "code",
   "execution_count": 16,
   "metadata": {},
   "outputs": [],
   "source": [
    "for col in range(1,6):\n",
    "    work_s[get_column_letter(col)+'1'].font = Font(bold=True)"
   ]
  },
  {
   "cell_type": "markdown",
   "metadata": {},
   "source": [
    "Save the document"
   ]
  },
  {
   "cell_type": "code",
   "execution_count": 17,
   "metadata": {},
   "outputs": [],
   "source": [
    "work_b.save('grades.xlsx')"
   ]
  }
 ],
 "metadata": {
  "interpreter": {
   "hash": "c99a520a13db95d7256f2c15c3d7bcce29de16a70a0824cf053c81b466455a91"
  },
  "kernelspec": {
   "display_name": "Python 3.9.1 64-bit",
   "language": "python",
   "name": "python3"
  },
  "language_info": {
   "codemirror_mode": {
    "name": "ipython",
    "version": 3
   },
   "file_extension": ".py",
   "mimetype": "text/x-python",
   "name": "python",
   "nbconvert_exporter": "python",
   "pygments_lexer": "ipython3",
   "version": "3.9.1"
  },
  "orig_nbformat": 4
 },
 "nbformat": 4,
 "nbformat_minor": 2
}

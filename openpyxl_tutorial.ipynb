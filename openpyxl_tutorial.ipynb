{
 "cells": [
  {
   "cell_type": "markdown",
   "metadata": {},
   "source": [
    "Import library"
   ]
  },
  {
   "cell_type": "code",
   "execution_count": 51,
   "metadata": {},
   "outputs": [],
   "source": [
    "from openpyxl import Workbook,load_workbook\n",
    "from openpyxl.utils import get_column_letter"
   ]
  },
  {
   "cell_type": "markdown",
   "metadata": {},
   "source": [
    "Loading spreadsheet using openpyxl"
   ]
  },
  {
   "cell_type": "code",
   "execution_count": 27,
   "metadata": {},
   "outputs": [],
   "source": [
    "work_b = load_workbook(\"C:/Users/Mo.l.tar/OneDrive/Desktop/test.xlsx\")"
   ]
  },
  {
   "cell_type": "markdown",
   "metadata": {},
   "source": [
    "Accessing worksheet cell value"
   ]
  },
  {
   "cell_type": "code",
   "execution_count": 32,
   "metadata": {},
   "outputs": [
    {
     "name": "stdout",
     "output_type": "stream",
     "text": [
      "Talha\n"
     ]
    }
   ],
   "source": [
    "work_b = load_workbook(\"C:/Users/Mo.l.tar/OneDrive/Desktop/test.xlsx\")\n",
    "work_s = work_b.active\n",
    "print(work_s['D3'].value)"
   ]
  },
  {
   "cell_type": "markdown",
   "metadata": {},
   "source": [
    "Changing cell value"
   ]
  },
  {
   "cell_type": "code",
   "execution_count": 31,
   "metadata": {},
   "outputs": [],
   "source": [
    "work_b = load_workbook(\"C:/Users/Mo.l.tar/OneDrive/Desktop/test.xlsx\")\n",
    "work_s = work_b.active\n",
    "work_s['D3'].value = 'Talha'\n",
    "work_b.save(\"C:/Users/Mo.l.tar/OneDrive/Desktop/test.xlsx\")"
   ]
  },
  {
   "cell_type": "markdown",
   "metadata": {},
   "source": [
    "Creating, listing and changing sheets"
   ]
  },
  {
   "cell_type": "markdown",
   "metadata": {},
   "source": [
    "Checking sheet names"
   ]
  },
  {
   "cell_type": "code",
   "execution_count": 35,
   "metadata": {},
   "outputs": [
    {
     "name": "stdout",
     "output_type": "stream",
     "text": [
      "['test1', 'Sheet2', 'Sheet3']\n"
     ]
    }
   ],
   "source": [
    "work_b = load_workbook(\"C:/Users/Mo.l.tar/OneDrive/Desktop/test.xlsx\")\n",
    "work_s = work_b.active\n",
    "\n",
    "print(work_b.sheetnames)"
   ]
  },
  {
   "cell_type": "markdown",
   "metadata": {},
   "source": [
    "Accessing a different sheet in the workbook"
   ]
  },
  {
   "cell_type": "code",
   "execution_count": 36,
   "metadata": {},
   "outputs": [
    {
     "name": "stdout",
     "output_type": "stream",
     "text": [
      "<Worksheet \"Sheet2\">\n"
     ]
    }
   ],
   "source": [
    "work_b = load_workbook(\"C:/Users/Mo.l.tar/OneDrive/Desktop/test.xlsx\")\n",
    "work_s = work_b['Sheet2']\n",
    "\n",
    "print(work_s)"
   ]
  },
  {
   "cell_type": "markdown",
   "metadata": {},
   "source": [
    "Creating a sheet"
   ]
  },
  {
   "cell_type": "code",
   "execution_count": 38,
   "metadata": {},
   "outputs": [
    {
     "name": "stdout",
     "output_type": "stream",
     "text": [
      "['test1', 'Sheet2', 'Sheet3', 'Talha']\n"
     ]
    }
   ],
   "source": [
    "work_b = load_workbook(\"C:/Users/Mo.l.tar/OneDrive/Desktop/test.xlsx\")\n",
    "\n",
    "work_b.create_sheet('Talha')\n",
    "\n",
    "print(work_b.sheetnames)"
   ]
  },
  {
   "cell_type": "markdown",
   "metadata": {},
   "source": [
    "Creating a new workbook"
   ]
  },
  {
   "cell_type": "code",
   "execution_count": 42,
   "metadata": {},
   "outputs": [],
   "source": [
    "work_b = Workbook()\n",
    "work_s = work_b.active\n",
    "work_s.title = 'Data'\n",
    "\n",
    "work_s.append(['Name','Date','Department','Country'])\n",
    "work_b.save('talha.xlsx')"
   ]
  },
  {
   "cell_type": "markdown",
   "metadata": {},
   "source": [
    "Accessing multiple cells."
   ]
  },
  {
   "cell_type": "code",
   "execution_count": 56,
   "metadata": {},
   "outputs": [
    {
     "name": "stdout",
     "output_type": "stream",
     "text": [
      "Name , Sameer , Talha , Zaki\n",
      "Date , 2000 , 1998 , 1995\n",
      "Department , PA , python programmer , R&D director\n",
      "Country , India , India , India\n"
     ]
    }
   ],
   "source": [
    "work_b = load_workbook('C:/Users/Mo.l.tar/OneDrive/Documents/vs code/jupyter notebook/talha.xlsx')\n",
    "work_s = work_b.active\n",
    "\n",
    "\n",
    "for clmn in range(1,5):\n",
    "    char = get_column_letter(clmn)\n",
    "    print(work_s[char + str(1)].value,',',work_s[char + str(2)].value,',',work_s[char + str(3)].value,',',work_s[char + str(4)].value)\n",
    "\n",
    "work_b.save('talha.xlsx')"
   ]
  },
  {
   "cell_type": "markdown",
   "metadata": {},
   "source": [
    "Merge cells"
   ]
  },
  {
   "cell_type": "code",
   "execution_count": 57,
   "metadata": {},
   "outputs": [],
   "source": [
    "work_b = load_workbook('C:/Users/Mo.l.tar/OneDrive/Documents/vs code/jupyter notebook/talha.xlsx')\n",
    "work_s = work_b.active\n",
    "\n",
    "work_s.merge_cells('A1:D1')\n",
    "work_b.save('talha.xlsx')"
   ]
  },
  {
   "cell_type": "markdown",
   "metadata": {},
   "source": [
    "Unmerge cells"
   ]
  },
  {
   "cell_type": "code",
   "execution_count": 58,
   "metadata": {},
   "outputs": [],
   "source": [
    "work_b = load_workbook('C:/Users/Mo.l.tar/OneDrive/Documents/vs code/jupyter notebook/talha.xlsx')\n",
    "work_s = work_b.active\n",
    "\n",
    "work_s.unmerge_cells('A1:D1')\n",
    "work_b.save('talha.xlsx')"
   ]
  },
  {
   "cell_type": "markdown",
   "metadata": {},
   "source": [
    "Insert and delete rows"
   ]
  },
  {
   "cell_type": "code",
   "execution_count": 60,
   "metadata": {},
   "outputs": [],
   "source": [
    "work_b = load_workbook('C:/Users/Mo.l.tar/OneDrive/Documents/vs code/jupyter notebook/talha.xlsx')\n",
    "work_s = work_b.active\n",
    "\n",
    "work_s.insert_rows(1)\n",
    "work_b.save('talha.xlsx')"
   ]
  },
  {
   "cell_type": "code",
   "execution_count": 62,
   "metadata": {},
   "outputs": [],
   "source": [
    "work_s.delete_rows(1)\n",
    "work_b.save('talha.xlsx')"
   ]
  },
  {
   "cell_type": "markdown",
   "metadata": {},
   "source": [
    "Insert and delete columns"
   ]
  },
  {
   "cell_type": "code",
   "execution_count": 65,
   "metadata": {},
   "outputs": [],
   "source": [
    "work_b = load_workbook('C:/Users/Mo.l.tar/OneDrive/Documents/vs code/jupyter notebook/talha.xlsx')\n",
    "work_s = work_b.active\n",
    "\n",
    "work_s.insert_cols(1)\n",
    "work_b.save('talha.xlsx')"
   ]
  },
  {
   "cell_type": "code",
   "execution_count": 66,
   "metadata": {},
   "outputs": [],
   "source": [
    "work_s.delete_cols(1)\n",
    "work_b.save('talha.xlsx')"
   ]
  },
  {
   "cell_type": "markdown",
   "metadata": {},
   "source": [
    "Moving cells"
   ]
  },
  {
   "cell_type": "code",
   "execution_count": 70,
   "metadata": {},
   "outputs": [],
   "source": [
    "work_b = load_workbook('talha.xlsx')\n",
    "work_s = work_b.active\n",
    "work_s.move_range('D1:F3',rows=0,cols=-2)\n",
    "work_b.save('talha.xlsx')"
   ]
  }
 ],
 "metadata": {
  "interpreter": {
   "hash": "c99a520a13db95d7256f2c15c3d7bcce29de16a70a0824cf053c81b466455a91"
  },
  "kernelspec": {
   "display_name": "Python 3.9.1 64-bit",
   "language": "python",
   "name": "python3"
  },
  "language_info": {
   "codemirror_mode": {
    "name": "ipython",
    "version": 3
   },
   "file_extension": ".py",
   "mimetype": "text/x-python",
   "name": "python",
   "nbconvert_exporter": "python",
   "pygments_lexer": "ipython3",
   "version": "3.9.1"
  },
  "orig_nbformat": 4
 },
 "nbformat": 4,
 "nbformat_minor": 2
}
